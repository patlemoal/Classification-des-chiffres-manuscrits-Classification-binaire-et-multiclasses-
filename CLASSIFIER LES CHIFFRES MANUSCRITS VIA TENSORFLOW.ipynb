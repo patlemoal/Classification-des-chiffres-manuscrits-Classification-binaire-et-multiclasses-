{
 "cells": [
  {
   "cell_type": "markdown",
   "metadata": {},
   "source": [
    "# Classifier les chiffres manuscrits avec tensorflow "
   ]
  },
  {
   "cell_type": "markdown",
   "metadata": {},
   "source": [
    "https://www.marktechpost.com/2019/10/16/classify-handwritten-digits-with-tensorflow/"
   ]
  },
  {
   "cell_type": "markdown",
   "metadata": {},
   "source": [
    "https://data-flair.training/blogs/python-deep-learning-project-handwritten-digit-recognition/"
   ]
  },
  {
   "cell_type": "code",
   "execution_count": 1,
   "metadata": {},
   "outputs": [],
   "source": [
    "import tensorflow as tf"
   ]
  },
  {
   "cell_type": "code",
   "execution_count": 2,
   "metadata": {},
   "outputs": [],
   "source": [
    "import matplotlib.pyplot as plt\n",
    "import numpy as np"
   ]
  },
  {
   "cell_type": "markdown",
   "metadata": {},
   "source": [
    "# Créer une variable "
   ]
  },
  {
   "cell_type": "markdown",
   "metadata": {},
   "source": [
    "On crée une variable nommée mnist et on la défini sur un objet de l'ensemble de données MNIST de la bibliothèque Keras Puis, nous allons la transormer en\n",
    "\n",
    "    un ensemble de données d'entraînement (x_train, y_train) et\n",
    "    \n",
    "    un ensemble de données de test (x_test, y_test):"
   ]
  },
  {
   "cell_type": "code",
   "execution_count": 3,
   "metadata": {},
   "outputs": [],
   "source": [
    "mnist = tf.keras.datasets.mnist # Object of the MNIST dataset\n",
    "(x_train, y_train),(x_test, y_test) = mnist.load_data() # Load data"
   ]
  },
  {
   "cell_type": "code",
   "execution_count": 4,
   "metadata": {},
   "outputs": [
    {
     "data": {
      "image/png": "[encoded data removed]",
      "text/plain": [
       "<Figure size 432x288 with 1 Axes>"
      ]
     },
     "metadata": {
      "needs_background": "light"
     },
     "output_type": "display_data"
    }
   ],
   "source": [
    "plt.imshow(x_train[0], cmap=\"gray\") # Import the image\n",
    "plt.show() # Plot the image"
   ]
  },
  {
   "cell_type": "markdown",
   "metadata": {},
   "source": [
    "# Prétraiter les données => Normalisation"
   ]
  },
  {
   "cell_type": "markdown",
   "metadata": {},
   "source": [
    "Avant d'introduire les données dans le réseau de neurones, nous devons le normaliser en mettant à l'échelle la valeur des pixels dans une plage de 0 à 1 au lieu d'être de 0 à 255 et cela prend moins de puissance de calcul:"
   ]
  },
  {
   "cell_type": "code",
   "execution_count": 5,
   "metadata": {},
   "outputs": [],
   "source": [
    "# Normalize the train dataset\n",
    "x_train = tf.keras.utils.normalize(x_train, axis=1)\n",
    "# Normalize the test dataset\n",
    "x_test = tf.keras.utils.normalize(x_test, axis=1)"
   ]
  },
  {
   "cell_type": "markdown",
   "metadata": {},
   "source": [
    "# Construction du modèle"
   ]
  },
  {
   "cell_type": "markdown",
   "metadata": {},
   "source": [
    "Maintenant, nous allons construire le modèle cad le réseau de neurones qui va entraîner et apprendre à classer ces images.\n",
    "\n",
    "Il convient de noter que les couches sont la chose la plus importante dans la construction d'un réseau neuronal artificiel, car elles extrairont les caractéristiques des données.\n",
    "\n",
    "    Tout d'abord, nous commençons par créer un objet modèle qui vous permet d'ajouter les différentes couches.\n",
    "\n",
    "    Ensuite, nous allons aplatir les données qui sont les pixels de l'image dans ce cas. Ainsi, les images ont une dimension de 28 × 28, nous devons la rendre 1 × 784 dimensionnelle pour que la couche d'entrée du réseau neuronal puisse la lire ou la gérer. \n",
    "\n",
    "    Puis, nous définissons l'entrée et une couche cachée avec 128 neurones et une fonction d'activation via la fonction relu.\n",
    "\n",
    "    Et la dernière chose que nous créons la couche de sortie avec 10 neurones(chiffres de 0 à 9) et une fonction d'activation softmax qui transformera le score renvoyé par le modèle en une valeur afin qu'il soit interprété par les humains."
   ]
  },
  {
   "cell_type": "code",
   "execution_count": 6,
   "metadata": {},
   "outputs": [],
   "source": [
    "#Build the model object\n",
    "model = tf.keras.models.Sequential()\n",
    "#les trois étapes pour que le réseau de neurones (Entrée, caché, sortie) puisse lire le fichier\n",
    "# Add the Flatten Layer\n",
    "model.add(tf.keras.layers.Flatten())\n",
    "# Build the input and the hidden layers\n",
    "model.add(tf.keras.layers.Dense(128, activation=tf.nn.relu))\n",
    "model.add(tf.keras.layers.Dense(128, activation=tf.nn.relu))\n",
    "# Build the output layer\n",
    "model.add(tf.keras.layers.Dense(10, activation=tf.nn.softmax))#10 correspond aux 10 chiffres de 0à 9, softmax-> classification"
   ]
  },
  {
   "cell_type": "markdown",
   "metadata": {},
   "source": [
    "model.add(tf.keras.layers.Dense(128, activation=tf.nn.relu)) => on lance 2 fois pour une meilleure prédiction"
   ]
  },
  {
   "cell_type": "markdown",
   "metadata": {},
   "source": [
    "# Compiler le modèle"
   ]
  },
  {
   "cell_type": "markdown",
   "metadata": {},
   "source": [
    "Depuis que nous avons fini de construire le réseau neuronal, nous devons compiler le modèle en ajoutant quelques paramètres qui indiqueront au réseau neuronal comment démarrer le processus de formation.\n",
    "\n",
    "Tout d'abord, nous ajoutons l'optimiseur qui créera ou, en d'autres termes, mettra à jour le paramètre du réseau neuronal pour l'adapter à nos données.\n",
    "\n",
    "Deuxièmement, la fonction de perte qui vous indiquera les performances de votre modèle.\n",
    "\n",
    "Troisièmement, les métriques qui donnent des tests indicatifs de la qualité du modèle.\n",
    "\n"
   ]
  },
  {
   "cell_type": "code",
   "execution_count": 7,
   "metadata": {},
   "outputs": [],
   "source": [
    "# Compile the model\n",
    "model.compile(optimizer=\"adam\", loss=\"sparse_categorical_crossentropy\", metrics=[\"accuracy\"])"
   ]
  },
  {
   "cell_type": "markdown",
   "metadata": {},
   "source": [
    "https://keras.io/api/metrics/"
   ]
  },
  {
   "cell_type": "markdown",
   "metadata": {},
   "source": [
    "# Former le modèle"
   ]
  },
  {
   "cell_type": "markdown",
   "metadata": {},
   "source": [
    "Nous sommes prêts à entraîner notre modèle, nous appelons le sous-paquet fit et le nourrissons avec les données d'entraînement et les données étiquetées qui correspondent à l'ensemble de données d'apprentissage et combien d'époques doivent être exécutées ou combien de fois doivent faire une estimation."
   ]
  },
  {
   "cell_type": "code",
   "execution_count": 8,
   "metadata": {
    "scrolled": true
   },
   "outputs": [
    {
     "name": "stdout",
     "output_type": "stream",
     "text": [
      "Epoch 1/5\n",
      "7500/7500 [==============================] - 38s 5ms/step - loss: 0.3691 - accuracy: 0.8911\n",
      "Epoch 2/5\n",
      "7500/7500 [==============================] - 43s 6ms/step - loss: 0.1014 - accuracy: 0.9677\n",
      "Epoch 3/5\n",
      "7500/7500 [==============================] - 46s 6ms/step - loss: 0.0687 - accuracy: 0.9774\n",
      "Epoch 4/5\n",
      "7500/7500 [==============================] - 37s 5ms/step - loss: 0.0467 - accuracy: 0.9844\n",
      "Epoch 5/5\n",
      "7500/7500 [==============================] - 35s 5ms/step - loss: 0.0376 - accuracy: 0.9890\n"
     ]
    },
    {
     "data": {
      "text/plain": [
       "<tensorflow.python.keras.callbacks.History at 0x1384340dcd0>"
      ]
     },
     "execution_count": 8,
     "metadata": {},
     "output_type": "execute_result"
    }
   ],
   "source": [
    "hist = model.fit(x=x_train, y=y_train, epochs=5, batch_size = 8) # Start training process\n",
    "hist"
   ]
  },
  {
   "cell_type": "markdown",
   "metadata": {},
   "source": [
    "On remarque que les pertes diminues et l'accuracy augmente au fur et à mesure"
   ]
  },
  {
   "cell_type": "markdown",
   "metadata": {},
   "source": [
    "epochs nombre de fois où l'on parcourt la base de données (pour 100 images 100 itérations 1 époch)\n",
    "batch parcourt 4 images à la fois.(pour 100 images 25 itérations et 1 époch)\n",
    "ici 5 epoch"
   ]
  },
  {
   "cell_type": "code",
   "execution_count": 9,
   "metadata": {},
   "outputs": [],
   "source": [
    "model.save('mnist.h5')"
   ]
  },
  {
   "cell_type": "markdown",
   "metadata": {},
   "source": [
    "c'est le résultat de l'entrainement. Action qui enregistre les poids"
   ]
  },
  {
   "cell_type": "markdown",
   "metadata": {},
   "source": [
    "# Evaluer le modèle"
   ]
  },
  {
   "cell_type": "code",
   "execution_count": 10,
   "metadata": {},
   "outputs": [
    {
     "name": "stdout",
     "output_type": "stream",
     "text": [
      "313/313 [==============================] - 2s 5ms/step - loss: 0.0999 - accuracy: 0.9730\n",
      "\n",
      "Test accuracy: 0.9729999899864197\n"
     ]
    }
   ],
   "source": [
    "# Evaluate the model performance\n",
    "test_loss, test_acc = model.evaluate(x=x_test, y=y_test)\n",
    "# Print out the model accuracy \n",
    "print('\\nTest accuracy:', test_acc)"
   ]
  },
  {
   "cell_type": "markdown",
   "metadata": {},
   "source": [
    "précision de + de 97,2% plutôt performante "
   ]
  },
  {
   "cell_type": "markdown",
   "metadata": {},
   "source": [
    "# Prédictions"
   ]
  },
  {
   "cell_type": "code",
   "execution_count": 11,
   "metadata": {},
   "outputs": [
    {
     "name": "stdout",
     "output_type": "stream",
     "text": [
      "WARNING:tensorflow:Layers in a Sequential model should only have a single input tensor, but we receive a <class 'tuple'> input: (<tf.Tensor 'IteratorGetNext:0' shape=(None, 28, 28) dtype=float32>,)\n",
      "Consider rewriting this model with the Functional API.\n"
     ]
    }
   ],
   "source": [
    "predictions = model.predict([x_test]) # Make prediction"
   ]
  },
  {
   "cell_type": "code",
   "execution_count": 12,
   "metadata": {},
   "outputs": [
    {
     "name": "stdout",
     "output_type": "stream",
     "text": [
      "9\n"
     ]
    }
   ],
   "source": [
    "print(np.argmax(predictions[1000])) # Print out the number"
   ]
  },
  {
   "cell_type": "markdown",
   "metadata": {},
   "source": [
    "la prédiction est le 9, \n",
    "mais comment pouvons-nous nous assurer que cette prédiction était vraie? \n",
    "ON teste la 1000e image dans l'ensemble de données de test à l'aide de matplotlib:"
   ]
  },
  {
   "cell_type": "code",
   "execution_count": 13,
   "metadata": {},
   "outputs": [
    {
     "data": {
      "image/png": "[encoded data removed]",
      "text/plain": [
       "<Figure size 432x288 with 1 Axes>"
      ]
     },
     "metadata": {
      "needs_background": "light"
     },
     "output_type": "display_data"
    }
   ],
   "source": [
    "plt.imshow(x_test[1000], cmap=\"gray\") # Import the image\n",
    "plt.show() # Show the image"
   ]
  },
  {
   "cell_type": "markdown",
   "metadata": {},
   "source": [
    "Les prédictions correspondent à l'image victoire !"
   ]
  },
  {
   "cell_type": "markdown",
   "metadata": {},
   "source": [
    "# APPLICATION tkinter"
   ]
  },
  {
   "cell_type": "code",
   "execution_count": 2,
   "metadata": {},
   "outputs": [],
   "source": [
    "from keras.models import load_model\n",
    "from tkinter import *\n",
    "import tkinter as tk\n",
    "import win32gui\n",
    "from PIL import ImageGrab, Image\n",
    "import numpy as np\n",
    "\n",
    "model = load_model('mnist.h5')\n",
    "\n",
    "def predict_digit(img):\n",
    "    #resize image to 28x28 pixels\n",
    "    img = img.resize((28,28))\n",
    "    #convert rgb to grayscale\n",
    "    img = img.convert('L')\n",
    "    img = np.array(img)\n",
    "    #reshaping to support our model input and normalizing\n",
    "    img = img.reshape(1,28,28,1)\n",
    "    img = img/255.0\n",
    "    #predicting the class\n",
    "    res = model.predict([img])[0]\n",
    "    return np.argmax(res), max(res)\n",
    "\n",
    "class App(tk.Tk):\n",
    "    def __init__(self):\n",
    "        tk.Tk.__init__(self)\n",
    "\n",
    "        self.x = self.y = 0\n",
    "\n",
    "        # Creating elements\n",
    "        self.canvas = tk.Canvas(self, width=300, height=300, bg = \"black\", cursor=\"cross\")\n",
    "        self.label = tk.Label(self, text=\"Thinking..\", font=(\"Helvetica\", 48))\n",
    "        self.classify_btn = tk.Button(self, text = \"Recognise\", command =         self.classify_handwriting) \n",
    "        self.button_clear = tk.Button(self, text = \"Clear\", command = self.clear_all)\n",
    "\n",
    "        # Grid structure\n",
    "        self.canvas.grid(row=0, column=0, pady=2, sticky=W, )\n",
    "        self.label.grid(row=0, column=1,pady=2, padx=2)\n",
    "        self.classify_btn.grid(row=1, column=1, pady=2, padx=2)\n",
    "        self.button_clear.grid(row=1, column=0, pady=2)\n",
    "\n",
    "        #self.canvas.bind(\"<Motion>\", self.start_pos)\n",
    "        self.canvas.bind(\"<B1-Motion>\", self.draw_lines)\n",
    "\n",
    "    def clear_all(self):\n",
    "        self.canvas.delete(\"all\")\n",
    "\n",
    "    def classify_handwriting(self):\n",
    "        HWND = self.canvas.winfo_id() # get the handle of the canvas\n",
    "        rect = win32gui.GetWindowRect(HWND) # get the coordinate of the canvas\n",
    "        im = ImageGrab.grab(rect)\n",
    "        \n",
    "        plt.imshow(im, cmap=\"gray\") # Import the image\n",
    "        plt.show() # Show the image    \n",
    "        digit, acc = predict_digit(im)\n",
    "        self.label.configure(text= str(digit)+', '+ str(int(acc*100))+'%')\n",
    "\n",
    "    def draw_lines(self, event):\n",
    "        self.x = event.x\n",
    "        self.y = event.y\n",
    "        r=12#rayon du pinceau\n",
    "        self.canvas.create_oval(self.x-r, self.y-r, self.x + r, self.y + r, fill='white', outline ='white')\n",
    "\n",
    "app = App()\n",
    "mainloop()"
   ]
  },
  {
   "cell_type": "markdown",
   "metadata": {},
   "source": [
    "# test ayant servi pour les étapes précédentes archive"
   ]
  },
  {
   "cell_type": "code",
   "execution_count": null,
   "metadata": {},
   "outputs": [
    {
     "name": "stdout",
     "output_type": "stream",
     "text": [
      "(60000, 28, 28) (60000,)\n",
      "x_train shape: (60000, 28, 28, 1)\n",
      "60000 train samples\n",
      "10000 test samples\n",
      "Epoch 1/10\n",
      "469/469 [==============================] - 353s 747ms/step - loss: 2.2864 - accuracy: 0.1383 - val_loss: 2.2265 - val_accuracy: 0.4612\n",
      "Epoch 2/10\n",
      "469/469 [==============================] - 314s 669ms/step - loss: 2.2207 - accuracy: 0.2773 - val_loss: 2.1364 - val_accuracy: 0.5995\n",
      "Epoch 3/10\n",
      "469/469 [==============================] - 343s 732ms/step - loss: 2.1305 - accuracy: 0.4029 - val_loss: 2.0037 - val_accuracy: 0.6677\n",
      "Epoch 4/10\n",
      "469/469 [==============================] - 397s 847ms/step - loss: 1.9989 - accuracy: 0.5075 - val_loss: 1.8128 - val_accuracy: 0.7247\n",
      "Epoch 5/10\n",
      "469/469 [==============================] - 329s 700ms/step - loss: 1.8150 - accuracy: 0.5792 - val_loss: 1.5682 - val_accuracy: 0.7675\n",
      "Epoch 6/10\n",
      "469/469 [==============================] - 346s 738ms/step - loss: 1.5942 - accuracy: 0.6266 - val_loss: 1.3065 - val_accuracy: 0.7935\n",
      "Epoch 7/10\n",
      "165/469 [=========>....................] - ETA: 4:20 - loss: 1.4055 - accuracy: 0.6524"
     ]
    }
   ],
   "source": [
    "#1. Import the libraries and load the dataset\n",
    "\n",
    "import keras\n",
    "from keras.datasets import mnist\n",
    "from keras.models import Sequential\n",
    "from keras.layers import Dense, Dropout, Flatten\n",
    "from keras.layers import Conv2D, MaxPooling2D\n",
    "from keras import backend as K\n",
    "\n",
    "# the data, split between train and test sets\n",
    "(x_train, y_train), (x_test, y_test) = mnist.load_data()\n",
    "\n",
    "print(x_train.shape, y_train.shape)\n",
    "\n",
    "#2. Preprocess the data\n",
    "\n",
    "batch_size = 128\n",
    "num_classes = 10\n",
    "epochs = 10\n",
    "\n",
    "x_train = x_train.reshape(x_train.shape[0], 28, 28, 1)\n",
    "x_test = x_test.reshape(x_test.shape[0], 28, 28, 1)\n",
    "input_shape = (28, 28, 1)\n",
    "\n",
    "# convert class vectors to binary class matrices\n",
    "y_train = keras.utils.to_categorical(y_train, num_classes)\n",
    "y_test = keras.utils.to_categorical(y_test, num_classes)\n",
    "\n",
    "x_train = x_train.astype('float32')\n",
    "x_test = x_test.astype('float32')\n",
    "x_train /= 255\n",
    "x_test /= 255\n",
    "print('x_train shape:', x_train.shape)\n",
    "print(x_train.shape[0], 'train samples')\n",
    "print(x_test.shape[0], 'test samples')\n",
    "\n",
    "#3. Create the model\n",
    "\n",
    "\n",
    "\n",
    "model = Sequential()\n",
    "model.add(Conv2D(32, kernel_size=(3, 3),activation='relu',input_shape=input_shape))\n",
    "model.add(Conv2D(64, (3, 3), activation='relu'))\n",
    "model.add(MaxPooling2D(pool_size=(2, 2)))\n",
    "model.add(Dropout(0.25))\n",
    "model.add(Flatten())\n",
    "\n",
    "\n",
    "model.add(Dense(256, activation='relu'))\n",
    "model.add(Dropout(0.5))\n",
    "model.add(Dense(num_classes, activation='softmax'))\n",
    "\n",
    "model.compile(loss=keras.losses.categorical_crossentropy,optimizer=keras.optimizers.Adadelta(),metrics=['accuracy'])\n",
    "\n",
    "#4. Train the model\n",
    "\n",
    "hist = model.fit(x_train, y_train,batch_size=batch_size,epochs=epochs,verbose=1,validation_data=(x_test, y_test))\n",
    "print(\"The model has successfully trained\")\n",
    "\n",
    "model.save('mnist.h5')\n",
    "print(\"Saving the model as mnist.h5\")\n",
    "\n",
    "#5. Evaluate the model\n",
    "\n",
    "score = model.evaluate(x_test, y_test, verbose=0)\n",
    "print('Test loss:', score[0])\n",
    "print('Test accuracy:', score[1])"
   ]
  },
  {
   "cell_type": "code",
   "execution_count": null,
   "metadata": {},
   "outputs": [],
   "source": []
  }
 ],
 "metadata": {
  "kernelspec": {
   "display_name": "Python 3",
   "language": "python",
   "name": "python3"
  },
  "language_info": {
   "codemirror_mode": {
    "name": "ipython",
    "version": 3
   },
   "file_extension": ".py",
   "mimetype": "text/x-python",
   "name": "python",
   "nbconvert_exporter": "python",
   "pygments_lexer": "ipython3",
   "version": "3.8.5"
  }
 },
 "nbformat": 4,
 "nbformat_minor": 4
}
